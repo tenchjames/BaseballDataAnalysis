{
 "cells": [
  {
   "cell_type": "markdown",
   "metadata": {},
   "source": [
    "# Baseball Database\n",
    "## James Tench\n",
    "## Udacity Data Analyst Nanodegree\n",
    "\n",
    "\n",
    "### Project Overview\n",
    "Conduct data analysis of your choice from a given dataset. Create a file that documents findings.\n"
   ]
  },
  {
   "cell_type": "markdown",
   "metadata": {},
   "source": [
    "### Project Details\n",
    "\n",
    "For this project I decided to analyze the Lahman baseball data set. This data set is a collection of baseball statistics from 1871 through current. It contains information about players, teams, and other statistics. \n",
    "\n",
    "After reviewing what information was in all of the files, here are questions I would like to attempt to answer\n",
    "\n",
    "1. Do teams that pay out more per player in salaries tend to win more games?\n",
    "2. How do the number of strike outs correlate with the number of games won?\n",
    "3. Does a better defense or better offense result in more wins? For better offense we will use runs scored. For better defense we will use the earned runs allowed."
   ]
  },
  {
   "cell_type": "code",
   "execution_count": 178,
   "metadata": {
    "collapsed": false
   },
   "outputs": [],
   "source": [
    "import numpy as np\n",
    "import pandas as pd\n",
    "import seaborn as sns"
   ]
  },
  {
   "cell_type": "code",
   "execution_count": 179,
   "metadata": {
    "collapsed": true
   },
   "outputs": [],
   "source": [
    "def corrected_standard_err(x):\n",
    "    return (x - x.mean()) / x.std(ddof=0)"
   ]
  },
  {
   "cell_type": "code",
   "execution_count": 180,
   "metadata": {
    "collapsed": true
   },
   "outputs": [],
   "source": [
    "def correlation(x, y):\n",
    "    # correlation = average of (x in standard units) times (y in standard units)\n",
    "    std_x = corrected_standard_err(x)\n",
    "    std_y = corrected_standard_err(y)\n",
    "    \n",
    "    return (std_x * std_y).mean()"
   ]
  },
  {
   "cell_type": "code",
   "execution_count": 181,
   "metadata": {
    "collapsed": false
   },
   "outputs": [],
   "source": [
    "# Master data csv file contains detailed information about players.\n",
    "# Each player has a unique playerID. It does not look like this table will\n",
    "# help with the analysis questions, however it is interesting to review facts\n",
    "# about players and might be needed.\n",
    "master_df = pd.read_csv('baseballdatabank-master/core/Master.csv')"
   ]
  },
  {
   "cell_type": "code",
   "execution_count": 182,
   "metadata": {
    "collapsed": false
   },
   "outputs": [],
   "source": [
    "# Uncomment to see the first few records\n",
    "#master_df.head()"
   ]
  },
  {
   "cell_type": "code",
   "execution_count": 183,
   "metadata": {
    "collapsed": false
   },
   "outputs": [],
   "source": [
    "# Teams.csv contains team level stats\n",
    "# This table will be useful in answering the question about the correlation between\n",
    "# losses and errors. In addition, winning statistics can be combined with the Salaries.csv\n",
    "# table to answer questions about the salaries\n",
    "teams_df = pd.read_csv('baseballdatabank-master/core/Teams.csv')"
   ]
  },
  {
   "cell_type": "code",
   "execution_count": 184,
   "metadata": {
    "collapsed": false
   },
   "outputs": [],
   "source": [
    "# Uncomment to see the first few records\n",
    "#teams_df.head()"
   ]
  },
  {
   "cell_type": "code",
   "execution_count": 265,
   "metadata": {
    "collapsed": false
   },
   "outputs": [
    {
     "name": "stderr",
     "output_type": "stream",
     "text": [
      "/Users/jamestench/anaconda2/lib/python2.7/site-packages/ipykernel/__main__.py:2: SettingWithCopyWarning: \n",
      "A value is trying to be set on a copy of a slice from a DataFrame.\n",
      "Try using .loc[row_indexer,col_indexer] = value instead\n",
      "\n",
      "See the caveats in the documentation: http://pandas.pydata.org/pandas-docs/stable/indexing.html#indexing-view-versus-copy\n",
      "  from ipykernel import kernelapp as app\n"
     ]
    }
   ],
   "source": [
    "#wins_and_losses_df = teams_df[['yearID', 'teamID', 'W', 'L']]\n",
    "#wins_and_losses_df['winPercent'] = wins_and_losses_df['W'] / (wins_and_losses_df['W'] + wins_and_losses_df['L'])"
   ]
  },
  {
   "cell_type": "code",
   "execution_count": 185,
   "metadata": {
    "collapsed": false
   },
   "outputs": [],
   "source": [
    "# Salaries.csv shows the player's salary, year and team they were associated with\n",
    "# Although the Master.csv file has data back to 1871, this file only goes back to 1985\n",
    "# so salary analysis should be restricted to that time frame\n",
    "salary_df = pd.read_csv('baseballdatabank-master/core/Salaries.csv')"
   ]
  },
  {
   "cell_type": "code",
   "execution_count": 186,
   "metadata": {
    "collapsed": true
   },
   "outputs": [],
   "source": [
    "teams_since_salary_tracking_df = teams_df[teams_df['yearID'] > 1984]"
   ]
  },
  {
   "cell_type": "code",
   "execution_count": 187,
   "metadata": {
    "collapsed": false
   },
   "outputs": [],
   "source": [
    "# Uncomment to see the first few records\n",
    "#teams_since_salary_tracking_df.head()"
   ]
  },
  {
   "cell_type": "code",
   "execution_count": 188,
   "metadata": {
    "collapsed": false
   },
   "outputs": [],
   "source": [
    "year_team_wins_df = teams_since_salary_tracking_df[['yearID', 'teamID', 'W']]"
   ]
  },
  {
   "cell_type": "code",
   "execution_count": 189,
   "metadata": {
    "collapsed": false
   },
   "outputs": [],
   "source": [
    "# get the mean salary for each team per year\n",
    "# taking the mean vs total sum to account for team have more or less players\n",
    "# included in their total salary number\n",
    "yearly_team_salary_df = salary_df.groupby(['yearID', 'teamID'], as_index=False).mean()"
   ]
  },
  {
   "cell_type": "code",
   "execution_count": 190,
   "metadata": {
    "collapsed": false
   },
   "outputs": [
    {
     "data": {
      "text/html": [
       "<div>\n",
       "<table border=\"1\" class=\"dataframe\">\n",
       "  <thead>\n",
       "    <tr style=\"text-align: right;\">\n",
       "      <th></th>\n",
       "      <th>yearID</th>\n",
       "      <th>teamID</th>\n",
       "      <th>salary</th>\n",
       "    </tr>\n",
       "  </thead>\n",
       "  <tbody>\n",
       "    <tr>\n",
       "      <th>0</th>\n",
       "      <td>1985</td>\n",
       "      <td>ATL</td>\n",
       "      <td>673045</td>\n",
       "    </tr>\n",
       "    <tr>\n",
       "      <th>1</th>\n",
       "      <td>1985</td>\n",
       "      <td>BAL</td>\n",
       "      <td>525486</td>\n",
       "    </tr>\n",
       "    <tr>\n",
       "      <th>2</th>\n",
       "      <td>1985</td>\n",
       "      <td>BOS</td>\n",
       "      <td>435902</td>\n",
       "    </tr>\n",
       "    <tr>\n",
       "      <th>3</th>\n",
       "      <td>1985</td>\n",
       "      <td>CAL</td>\n",
       "      <td>515281</td>\n",
       "    </tr>\n",
       "    <tr>\n",
       "      <th>4</th>\n",
       "      <td>1985</td>\n",
       "      <td>CHA</td>\n",
       "      <td>468865</td>\n",
       "    </tr>\n",
       "  </tbody>\n",
       "</table>\n",
       "</div>"
      ],
      "text/plain": [
       "   yearID teamID  salary\n",
       "0    1985    ATL  673045\n",
       "1    1985    BAL  525486\n",
       "2    1985    BOS  435902\n",
       "3    1985    CAL  515281\n",
       "4    1985    CHA  468865"
      ]
     },
     "execution_count": 190,
     "metadata": {},
     "output_type": "execute_result"
    }
   ],
   "source": [
    "yearly_team_salary_df.head()"
   ]
  },
  {
   "cell_type": "code",
   "execution_count": 191,
   "metadata": {
    "collapsed": true
   },
   "outputs": [],
   "source": [
    "# merge the records into one data frame\n",
    "salary_wins_combined_df = yearly_team_salary_df.merge(year_team_wins_df, on=['yearID', 'teamID'])"
   ]
  },
  {
   "cell_type": "code",
   "execution_count": 192,
   "metadata": {
    "collapsed": false
   },
   "outputs": [],
   "source": [
    "salaries = salary_wins_combined_df['salary']\n",
    "wins = salary_wins_combined_df['W']"
   ]
  },
  {
   "cell_type": "code",
   "execution_count": 193,
   "metadata": {
    "collapsed": false
   },
   "outputs": [
    {
     "name": "stdout",
     "output_type": "stream",
     "text": [
      "0.252420283143\n"
     ]
    }
   ],
   "source": [
    "print correlation(wins, salaries)"
   ]
  },
  {
   "cell_type": "code",
   "execution_count": 194,
   "metadata": {
    "collapsed": false
   },
   "outputs": [
    {
     "name": "stdout",
     "output_type": "stream",
     "text": [
      "Populating the interactive namespace from numpy and matplotlib\n"
     ]
    }
   ],
   "source": [
    "%pylab inline"
   ]
  },
  {
   "cell_type": "code",
   "execution_count": 195,
   "metadata": {
    "collapsed": false,
    "scrolled": true
   },
   "outputs": [
    {
     "data": {
      "text/plain": [
       "<matplotlib.text.Text at 0x121bda390>"
      ]
     },
     "execution_count": 195,
     "metadata": {},
     "output_type": "execute_result"
    },
    {
     "data": {
      "image/png": "[encoded data removed]",
      "text/plain": [
       "<matplotlib.figure.Figure at 0x11b1739d0>"
      ]
     },
     "metadata": {},
     "output_type": "display_data"
    }
   ],
   "source": [
    "standardized_salaries = corrected_standard_err(salaries)\n",
    "standardized_wins = corrected_standard_err(wins)\n",
    "plt.scatter(standardized_wins, standardized_salaries)\n",
    "plt.title(\"Win/Salary Correlation - Standardized\")\n",
    "plt.xlabel(\"Standardized Wins\")\n",
    "plt.ylabel(\"Standardized Salary\")"
   ]
  },
  {
   "cell_type": "markdown",
   "metadata": {},
   "source": [
    "### Findings - Do higher average salaries correlate to more winning games?\n",
    "Based on the computed correlation we can see that there appears to be a small positive correlation between average salaries and the number of wins in a season. Although the relationship is positive it appears to be to small to consider this as a strong relationship. The scatter plot and the standarized scatter plot also support this visually because they do not show strong correlations, linear or otherwise."
   ]
  },
  {
   "cell_type": "code",
   "execution_count": 196,
   "metadata": {
    "collapsed": true
   },
   "outputs": [],
   "source": [
    "# Answer the next question. Do the number of strike outs correlate the the number of games won?\n",
    "# The Teams.csv file has a number of fields that are empty for strikeouts, or set to 0\n",
    "# I am excluding those from the calculation as there appears to be some error, or missing information\n",
    "# for those records.\n",
    "\n",
    "teams_with_strikeouts_recorded_df = teams_df[teams_df['SO'] > 0]"
   ]
  },
  {
   "cell_type": "code",
   "execution_count": 197,
   "metadata": {
    "collapsed": false
   },
   "outputs": [],
   "source": [
    "strikeouts = teams_with_strikeouts_recorded_df['SO']\n",
    "wins = teams_with_strikeouts_recorded_df['W']"
   ]
  },
  {
   "cell_type": "code",
   "execution_count": 198,
   "metadata": {
    "collapsed": false
   },
   "outputs": [
    {
     "name": "stdout",
     "output_type": "stream",
     "text": [
      "0.387457403239\n"
     ]
    }
   ],
   "source": [
    "print correlation(wins, strikeouts)"
   ]
  },
  {
   "cell_type": "code",
   "execution_count": 199,
   "metadata": {
    "collapsed": false
   },
   "outputs": [
    {
     "data": {
      "text/plain": [
       "count    2663.000000\n",
       "mean      744.045437\n",
       "std       292.137117\n",
       "min         3.000000\n",
       "25%       511.000000\n",
       "50%       761.000000\n",
       "75%       972.000000\n",
       "max      1535.000000\n",
       "Name: SO, dtype: float64"
      ]
     },
     "execution_count": 199,
     "metadata": {},
     "output_type": "execute_result"
    }
   ],
   "source": [
    "strikeouts.describe()"
   ]
  },
  {
   "cell_type": "code",
   "execution_count": 200,
   "metadata": {
    "collapsed": false
   },
   "outputs": [
    {
     "data": {
      "text/plain": [
       "<matplotlib.text.Text at 0x121baf090>"
      ]
     },
     "execution_count": 200,
     "metadata": {},
     "output_type": "execute_result"
    },
    {
     "data": {
      "image/png": "[encoded data removed]",
      "text/plain": [
       "<matplotlib.figure.Figure at 0x11a4ac6d0>"
      ]
     },
     "metadata": {},
     "output_type": "display_data"
    }
   ],
   "source": [
    "plt.scatter(wins, strikeouts)\n",
    "plt.title(\"Win/strikeout correlation\")\n",
    "plt.xlabel(\"Wins\")\n",
    "plt.ylabel(\"Strike Outs\")"
   ]
  },
  {
   "cell_type": "markdown",
   "metadata": {},
   "source": [
    "### Findings - Do more strikeouts result in less wins?\n",
    "Strike outs appear to have greater impact on wins compared to salaries. This result is actually contrary to what I would have guessed. I would have assumed that teams with more strikeouts are hitting the ball less on average which in turn would result in less runs being scored overall which one would think would result in less overall wins.\n",
    "\n",
    "Although a correlation of 0.38 is higher than 0.25 reported by salaries, this is still considered a week correlation and would suggest that other variables are contributing to the number of wins"
   ]
  },
  {
   "cell_type": "code",
   "execution_count": 211,
   "metadata": {
    "collapsed": true
   },
   "outputs": [],
   "source": [
    "# Question three data. do better offensive stats, or defensive stats correlate to more wins?\n",
    "wins = teams_df['W']\n",
    "runs = teams_df['R']\n",
    "earned_runs_allowed = teams_df['ER']"
   ]
  },
  {
   "cell_type": "code",
   "execution_count": 202,
   "metadata": {
    "collapsed": false
   },
   "outputs": [
    {
     "name": "stdout",
     "output_type": "stream",
     "text": [
      "0.677242875886\n"
     ]
    }
   ],
   "source": [
    "print correlation(wins, runs)"
   ]
  },
  {
   "cell_type": "code",
   "execution_count": 212,
   "metadata": {
    "collapsed": false
   },
   "outputs": [
    {
     "name": "stdout",
     "output_type": "stream",
     "text": [
      "0.235720898903\n"
     ]
    }
   ],
   "source": [
    "print correlation(wins, earned_runs_allowed)"
   ]
  },
  {
   "cell_type": "code",
   "execution_count": 213,
   "metadata": {
    "collapsed": false
   },
   "outputs": [
    {
     "data": {
      "text/plain": [
       "count    2805.000000\n",
       "mean      681.945811\n",
       "std       135.738244\n",
       "min        24.000000\n",
       "25%       613.000000\n",
       "50%       690.000000\n",
       "75%       763.000000\n",
       "max      1220.000000\n",
       "Name: R, dtype: float64"
      ]
     },
     "execution_count": 213,
     "metadata": {},
     "output_type": "execute_result"
    }
   ],
   "source": [
    "runs.describe()"
   ]
  },
  {
   "cell_type": "code",
   "execution_count": 214,
   "metadata": {
    "collapsed": false
   },
   "outputs": [
    {
     "data": {
      "text/plain": [
       "count    2805.000000\n",
       "mean      570.895187\n",
       "std       146.958007\n",
       "min        25.000000\n",
       "25%       500.000000\n",
       "50%       590.000000\n",
       "75%       666.000000\n",
       "max      1023.000000\n",
       "Name: ER, dtype: float64"
      ]
     },
     "execution_count": 214,
     "metadata": {},
     "output_type": "execute_result"
    }
   ],
   "source": [
    "earned_runs_allowed.describe()"
   ]
  },
  {
   "cell_type": "code",
   "execution_count": 215,
   "metadata": {
    "collapsed": false
   },
   "outputs": [
    {
     "data": {
      "text/plain": [
       "(array([  26.,   78.,   70.,  221.,  454.,  885.,  735.,  283.,   49.,    4.]),\n",
       " array([   25. ,   124.8,   224.6,   324.4,   424.2,   524. ,   623.8,\n",
       "          723.6,   823.4,   923.2,  1023. ]),\n",
       " <a list of 10 Patch objects>)"
      ]
     },
     "execution_count": 215,
     "metadata": {},
     "output_type": "execute_result"
    },
    {
     "data": {
      "image/png": "[encoded data removed]",
      "text/plain": [
       "<matplotlib.figure.Figure at 0x1214a4210>"
      ]
     },
     "metadata": {},
     "output_type": "display_data"
    }
   ],
   "source": [
    "plt.hist(runs)\n",
    "plt.hist(earned_runs_allowed)"
   ]
  },
  {
   "cell_type": "code",
   "execution_count": 218,
   "metadata": {
    "collapsed": false
   },
   "outputs": [
    {
     "data": {
      "text/plain": [
       "<matplotlib.text.Text at 0x11f835590>"
      ]
     },
     "execution_count": 218,
     "metadata": {},
     "output_type": "execute_result"
    },
    {
     "data": {
      "image/png": "[encoded data removed]",
      "text/plain": [
       "<matplotlib.figure.Figure at 0x121bcdfd0>"
      ]
     },
     "metadata": {},
     "output_type": "display_data"
    }
   ],
   "source": [
    "plt.scatter(wins, runs)\n",
    "plt.title(\"Win/runs scored correlation\")\n",
    "plt.xlabel(\"Wins\")\n",
    "plt.ylabel(\"Runs scored\")"
   ]
  },
  {
   "cell_type": "code",
   "execution_count": 219,
   "metadata": {
    "collapsed": false
   },
   "outputs": [
    {
     "data": {
      "text/plain": [
       "<matplotlib.text.Text at 0x11f38e510>"
      ]
     },
     "execution_count": 219,
     "metadata": {},
     "output_type": "execute_result"
    },
    {
     "data": {
      "image/png": "[encoded data removed]",
      "text/plain": [
       "<matplotlib.figure.Figure at 0x11f847950>"
      ]
     },
     "metadata": {},
     "output_type": "display_data"
    }
   ],
   "source": [
    "plt.scatter(wins, earned_runs_allowed)\n",
    "plt.title(\"Win/earned runs allowed correlation\")\n",
    "plt.xlabel(\"Wins\")\n",
    "plt.ylabel(\"Earned runs allowed\")"
   ]
  },
  {
   "cell_type": "code",
   "execution_count": 261,
   "metadata": {
    "collapsed": false
   },
   "outputs": [
    {
     "name": "stderr",
     "output_type": "stream",
     "text": [
      "/Users/jamestench/anaconda2/lib/python2.7/site-packages/ipykernel/__main__.py:2: SettingWithCopyWarning: \n",
      "A value is trying to be set on a copy of a slice from a DataFrame.\n",
      "Try using .loc[row_indexer,col_indexer] = value instead\n",
      "\n",
      "See the caveats in the documentation: http://pandas.pydata.org/pandas-docs/stable/indexing.html#indexing-view-versus-copy\n",
      "  from ipykernel import kernelapp as app\n"
     ]
    }
   ],
   "source": [
    "wins_and_losses_df = teams_df[['yearID', 'teamID', 'W', 'L']]\n",
    "wins_and_losses_df['PERCENT'] = wins_and_losses_df['W'] / (wins_and_losses_df['W'] + wins_and_losses_df['L'])"
   ]
  },
  {
   "cell_type": "code",
   "execution_count": 262,
   "metadata": {
    "collapsed": false
   },
   "outputs": [
    {
     "data": {
      "text/html": [
       "<div>\n",
       "<table border=\"1\" class=\"dataframe\">\n",
       "  <thead>\n",
       "    <tr style=\"text-align: right;\">\n",
       "      <th></th>\n",
       "      <th>yearID</th>\n",
       "      <th>teamID</th>\n",
       "      <th>W</th>\n",
       "      <th>L</th>\n",
       "      <th>PERCENT</th>\n",
       "    </tr>\n",
       "  </thead>\n",
       "  <tbody>\n",
       "    <tr>\n",
       "      <th>0</th>\n",
       "      <td>1871</td>\n",
       "      <td>BS1</td>\n",
       "      <td>20</td>\n",
       "      <td>10</td>\n",
       "      <td>0.666667</td>\n",
       "    </tr>\n",
       "    <tr>\n",
       "      <th>1</th>\n",
       "      <td>1871</td>\n",
       "      <td>CH1</td>\n",
       "      <td>19</td>\n",
       "      <td>9</td>\n",
       "      <td>0.678571</td>\n",
       "    </tr>\n",
       "    <tr>\n",
       "      <th>2</th>\n",
       "      <td>1871</td>\n",
       "      <td>CL1</td>\n",
       "      <td>10</td>\n",
       "      <td>19</td>\n",
       "      <td>0.344828</td>\n",
       "    </tr>\n",
       "    <tr>\n",
       "      <th>3</th>\n",
       "      <td>1871</td>\n",
       "      <td>FW1</td>\n",
       "      <td>7</td>\n",
       "      <td>12</td>\n",
       "      <td>0.368421</td>\n",
       "    </tr>\n",
       "    <tr>\n",
       "      <th>4</th>\n",
       "      <td>1871</td>\n",
       "      <td>NY2</td>\n",
       "      <td>16</td>\n",
       "      <td>17</td>\n",
       "      <td>0.484848</td>\n",
       "    </tr>\n",
       "    <tr>\n",
       "      <th>5</th>\n",
       "      <td>1871</td>\n",
       "      <td>PH1</td>\n",
       "      <td>21</td>\n",
       "      <td>7</td>\n",
       "      <td>0.750000</td>\n",
       "    </tr>\n",
       "    <tr>\n",
       "      <th>6</th>\n",
       "      <td>1871</td>\n",
       "      <td>RC1</td>\n",
       "      <td>4</td>\n",
       "      <td>21</td>\n",
       "      <td>0.160000</td>\n",
       "    </tr>\n",
       "    <tr>\n",
       "      <th>7</th>\n",
       "      <td>1871</td>\n",
       "      <td>TRO</td>\n",
       "      <td>13</td>\n",
       "      <td>15</td>\n",
       "      <td>0.464286</td>\n",
       "    </tr>\n",
       "    <tr>\n",
       "      <th>8</th>\n",
       "      <td>1871</td>\n",
       "      <td>WS3</td>\n",
       "      <td>15</td>\n",
       "      <td>15</td>\n",
       "      <td>0.500000</td>\n",
       "    </tr>\n",
       "    <tr>\n",
       "      <th>9</th>\n",
       "      <td>1872</td>\n",
       "      <td>BL1</td>\n",
       "      <td>35</td>\n",
       "      <td>19</td>\n",
       "      <td>0.648148</td>\n",
       "    </tr>\n",
       "    <tr>\n",
       "      <th>10</th>\n",
       "      <td>1872</td>\n",
       "      <td>BR1</td>\n",
       "      <td>3</td>\n",
       "      <td>26</td>\n",
       "      <td>0.103448</td>\n",
       "    </tr>\n",
       "    <tr>\n",
       "      <th>11</th>\n",
       "      <td>1872</td>\n",
       "      <td>BR2</td>\n",
       "      <td>9</td>\n",
       "      <td>28</td>\n",
       "      <td>0.243243</td>\n",
       "    </tr>\n",
       "    <tr>\n",
       "      <th>12</th>\n",
       "      <td>1872</td>\n",
       "      <td>BS1</td>\n",
       "      <td>39</td>\n",
       "      <td>8</td>\n",
       "      <td>0.829787</td>\n",
       "    </tr>\n",
       "    <tr>\n",
       "      <th>13</th>\n",
       "      <td>1872</td>\n",
       "      <td>CL1</td>\n",
       "      <td>6</td>\n",
       "      <td>16</td>\n",
       "      <td>0.272727</td>\n",
       "    </tr>\n",
       "    <tr>\n",
       "      <th>14</th>\n",
       "      <td>1872</td>\n",
       "      <td>MID</td>\n",
       "      <td>5</td>\n",
       "      <td>19</td>\n",
       "      <td>0.208333</td>\n",
       "    </tr>\n",
       "    <tr>\n",
       "      <th>15</th>\n",
       "      <td>1872</td>\n",
       "      <td>NY2</td>\n",
       "      <td>34</td>\n",
       "      <td>20</td>\n",
       "      <td>0.629630</td>\n",
       "    </tr>\n",
       "    <tr>\n",
       "      <th>16</th>\n",
       "      <td>1872</td>\n",
       "      <td>PH1</td>\n",
       "      <td>30</td>\n",
       "      <td>14</td>\n",
       "      <td>0.681818</td>\n",
       "    </tr>\n",
       "    <tr>\n",
       "      <th>17</th>\n",
       "      <td>1872</td>\n",
       "      <td>TRO</td>\n",
       "      <td>15</td>\n",
       "      <td>10</td>\n",
       "      <td>0.600000</td>\n",
       "    </tr>\n",
       "    <tr>\n",
       "      <th>18</th>\n",
       "      <td>1872</td>\n",
       "      <td>WS3</td>\n",
       "      <td>2</td>\n",
       "      <td>7</td>\n",
       "      <td>0.222222</td>\n",
       "    </tr>\n",
       "    <tr>\n",
       "      <th>19</th>\n",
       "      <td>1872</td>\n",
       "      <td>WS4</td>\n",
       "      <td>0</td>\n",
       "      <td>11</td>\n",
       "      <td>0.000000</td>\n",
       "    </tr>\n",
       "    <tr>\n",
       "      <th>20</th>\n",
       "      <td>1873</td>\n",
       "      <td>BL1</td>\n",
       "      <td>34</td>\n",
       "      <td>22</td>\n",
       "      <td>0.607143</td>\n",
       "    </tr>\n",
       "    <tr>\n",
       "      <th>21</th>\n",
       "      <td>1873</td>\n",
       "      <td>BL4</td>\n",
       "      <td>0</td>\n",
       "      <td>6</td>\n",
       "      <td>0.000000</td>\n",
       "    </tr>\n",
       "    <tr>\n",
       "      <th>22</th>\n",
       "      <td>1873</td>\n",
       "      <td>BR2</td>\n",
       "      <td>17</td>\n",
       "      <td>37</td>\n",
       "      <td>0.314815</td>\n",
       "    </tr>\n",
       "    <tr>\n",
       "      <th>23</th>\n",
       "      <td>1873</td>\n",
       "      <td>BS1</td>\n",
       "      <td>43</td>\n",
       "      <td>16</td>\n",
       "      <td>0.728814</td>\n",
       "    </tr>\n",
       "    <tr>\n",
       "      <th>24</th>\n",
       "      <td>1873</td>\n",
       "      <td>ELI</td>\n",
       "      <td>2</td>\n",
       "      <td>21</td>\n",
       "      <td>0.086957</td>\n",
       "    </tr>\n",
       "    <tr>\n",
       "      <th>25</th>\n",
       "      <td>1873</td>\n",
       "      <td>NY2</td>\n",
       "      <td>29</td>\n",
       "      <td>24</td>\n",
       "      <td>0.547170</td>\n",
       "    </tr>\n",
       "    <tr>\n",
       "      <th>26</th>\n",
       "      <td>1873</td>\n",
       "      <td>PH1</td>\n",
       "      <td>28</td>\n",
       "      <td>23</td>\n",
       "      <td>0.549020</td>\n",
       "    </tr>\n",
       "    <tr>\n",
       "      <th>27</th>\n",
       "      <td>1873</td>\n",
       "      <td>PH2</td>\n",
       "      <td>36</td>\n",
       "      <td>17</td>\n",
       "      <td>0.679245</td>\n",
       "    </tr>\n",
       "    <tr>\n",
       "      <th>28</th>\n",
       "      <td>1873</td>\n",
       "      <td>WS5</td>\n",
       "      <td>8</td>\n",
       "      <td>31</td>\n",
       "      <td>0.205128</td>\n",
       "    </tr>\n",
       "    <tr>\n",
       "      <th>29</th>\n",
       "      <td>1874</td>\n",
       "      <td>BL1</td>\n",
       "      <td>9</td>\n",
       "      <td>38</td>\n",
       "      <td>0.191489</td>\n",
       "    </tr>\n",
       "    <tr>\n",
       "      <th>...</th>\n",
       "      <td>...</td>\n",
       "      <td>...</td>\n",
       "      <td>...</td>\n",
       "      <td>...</td>\n",
       "      <td>...</td>\n",
       "    </tr>\n",
       "    <tr>\n",
       "      <th>2775</th>\n",
       "      <td>2015</td>\n",
       "      <td>KCA</td>\n",
       "      <td>95</td>\n",
       "      <td>67</td>\n",
       "      <td>0.586420</td>\n",
       "    </tr>\n",
       "    <tr>\n",
       "      <th>2776</th>\n",
       "      <td>2015</td>\n",
       "      <td>MIN</td>\n",
       "      <td>83</td>\n",
       "      <td>79</td>\n",
       "      <td>0.512346</td>\n",
       "    </tr>\n",
       "    <tr>\n",
       "      <th>2777</th>\n",
       "      <td>2015</td>\n",
       "      <td>CLE</td>\n",
       "      <td>81</td>\n",
       "      <td>80</td>\n",
       "      <td>0.503106</td>\n",
       "    </tr>\n",
       "    <tr>\n",
       "      <th>2778</th>\n",
       "      <td>2015</td>\n",
       "      <td>CHA</td>\n",
       "      <td>76</td>\n",
       "      <td>86</td>\n",
       "      <td>0.469136</td>\n",
       "    </tr>\n",
       "    <tr>\n",
       "      <th>2779</th>\n",
       "      <td>2015</td>\n",
       "      <td>DET</td>\n",
       "      <td>74</td>\n",
       "      <td>87</td>\n",
       "      <td>0.459627</td>\n",
       "    </tr>\n",
       "    <tr>\n",
       "      <th>2780</th>\n",
       "      <td>2015</td>\n",
       "      <td>TOR</td>\n",
       "      <td>93</td>\n",
       "      <td>69</td>\n",
       "      <td>0.574074</td>\n",
       "    </tr>\n",
       "    <tr>\n",
       "      <th>2781</th>\n",
       "      <td>2015</td>\n",
       "      <td>NYA</td>\n",
       "      <td>87</td>\n",
       "      <td>75</td>\n",
       "      <td>0.537037</td>\n",
       "    </tr>\n",
       "    <tr>\n",
       "      <th>2782</th>\n",
       "      <td>2015</td>\n",
       "      <td>BAL</td>\n",
       "      <td>81</td>\n",
       "      <td>81</td>\n",
       "      <td>0.500000</td>\n",
       "    </tr>\n",
       "    <tr>\n",
       "      <th>2783</th>\n",
       "      <td>2015</td>\n",
       "      <td>TBA</td>\n",
       "      <td>80</td>\n",
       "      <td>82</td>\n",
       "      <td>0.493827</td>\n",
       "    </tr>\n",
       "    <tr>\n",
       "      <th>2784</th>\n",
       "      <td>2015</td>\n",
       "      <td>BOS</td>\n",
       "      <td>78</td>\n",
       "      <td>84</td>\n",
       "      <td>0.481481</td>\n",
       "    </tr>\n",
       "    <tr>\n",
       "      <th>2785</th>\n",
       "      <td>2015</td>\n",
       "      <td>TEX</td>\n",
       "      <td>88</td>\n",
       "      <td>74</td>\n",
       "      <td>0.543210</td>\n",
       "    </tr>\n",
       "    <tr>\n",
       "      <th>2786</th>\n",
       "      <td>2015</td>\n",
       "      <td>HOU</td>\n",
       "      <td>86</td>\n",
       "      <td>76</td>\n",
       "      <td>0.530864</td>\n",
       "    </tr>\n",
       "    <tr>\n",
       "      <th>2787</th>\n",
       "      <td>2015</td>\n",
       "      <td>LAA</td>\n",
       "      <td>85</td>\n",
       "      <td>77</td>\n",
       "      <td>0.524691</td>\n",
       "    </tr>\n",
       "    <tr>\n",
       "      <th>2788</th>\n",
       "      <td>2015</td>\n",
       "      <td>SEA</td>\n",
       "      <td>76</td>\n",
       "      <td>86</td>\n",
       "      <td>0.469136</td>\n",
       "    </tr>\n",
       "    <tr>\n",
       "      <th>2789</th>\n",
       "      <td>2015</td>\n",
       "      <td>OAK</td>\n",
       "      <td>68</td>\n",
       "      <td>94</td>\n",
       "      <td>0.419753</td>\n",
       "    </tr>\n",
       "    <tr>\n",
       "      <th>2790</th>\n",
       "      <td>2015</td>\n",
       "      <td>SLN</td>\n",
       "      <td>100</td>\n",
       "      <td>62</td>\n",
       "      <td>0.617284</td>\n",
       "    </tr>\n",
       "    <tr>\n",
       "      <th>2791</th>\n",
       "      <td>2015</td>\n",
       "      <td>PIT</td>\n",
       "      <td>98</td>\n",
       "      <td>64</td>\n",
       "      <td>0.604938</td>\n",
       "    </tr>\n",
       "    <tr>\n",
       "      <th>2792</th>\n",
       "      <td>2015</td>\n",
       "      <td>CHN</td>\n",
       "      <td>97</td>\n",
       "      <td>65</td>\n",
       "      <td>0.598765</td>\n",
       "    </tr>\n",
       "    <tr>\n",
       "      <th>2793</th>\n",
       "      <td>2015</td>\n",
       "      <td>MIL</td>\n",
       "      <td>68</td>\n",
       "      <td>94</td>\n",
       "      <td>0.419753</td>\n",
       "    </tr>\n",
       "    <tr>\n",
       "      <th>2794</th>\n",
       "      <td>2015</td>\n",
       "      <td>CIN</td>\n",
       "      <td>64</td>\n",
       "      <td>98</td>\n",
       "      <td>0.395062</td>\n",
       "    </tr>\n",
       "    <tr>\n",
       "      <th>2795</th>\n",
       "      <td>2015</td>\n",
       "      <td>NYN</td>\n",
       "      <td>90</td>\n",
       "      <td>72</td>\n",
       "      <td>0.555556</td>\n",
       "    </tr>\n",
       "    <tr>\n",
       "      <th>2796</th>\n",
       "      <td>2015</td>\n",
       "      <td>WAS</td>\n",
       "      <td>83</td>\n",
       "      <td>79</td>\n",
       "      <td>0.512346</td>\n",
       "    </tr>\n",
       "    <tr>\n",
       "      <th>2797</th>\n",
       "      <td>2015</td>\n",
       "      <td>MIA</td>\n",
       "      <td>71</td>\n",
       "      <td>91</td>\n",
       "      <td>0.438272</td>\n",
       "    </tr>\n",
       "    <tr>\n",
       "      <th>2798</th>\n",
       "      <td>2015</td>\n",
       "      <td>ATL</td>\n",
       "      <td>67</td>\n",
       "      <td>95</td>\n",
       "      <td>0.413580</td>\n",
       "    </tr>\n",
       "    <tr>\n",
       "      <th>2799</th>\n",
       "      <td>2015</td>\n",
       "      <td>PHI</td>\n",
       "      <td>63</td>\n",
       "      <td>99</td>\n",
       "      <td>0.388889</td>\n",
       "    </tr>\n",
       "    <tr>\n",
       "      <th>2800</th>\n",
       "      <td>2015</td>\n",
       "      <td>LAN</td>\n",
       "      <td>92</td>\n",
       "      <td>70</td>\n",
       "      <td>0.567901</td>\n",
       "    </tr>\n",
       "    <tr>\n",
       "      <th>2801</th>\n",
       "      <td>2015</td>\n",
       "      <td>SFN</td>\n",
       "      <td>84</td>\n",
       "      <td>78</td>\n",
       "      <td>0.518519</td>\n",
       "    </tr>\n",
       "    <tr>\n",
       "      <th>2802</th>\n",
       "      <td>2015</td>\n",
       "      <td>ARI</td>\n",
       "      <td>79</td>\n",
       "      <td>83</td>\n",
       "      <td>0.487654</td>\n",
       "    </tr>\n",
       "    <tr>\n",
       "      <th>2803</th>\n",
       "      <td>2015</td>\n",
       "      <td>SDN</td>\n",
       "      <td>74</td>\n",
       "      <td>88</td>\n",
       "      <td>0.456790</td>\n",
       "    </tr>\n",
       "    <tr>\n",
       "      <th>2804</th>\n",
       "      <td>2015</td>\n",
       "      <td>COL</td>\n",
       "      <td>68</td>\n",
       "      <td>94</td>\n",
       "      <td>0.419753</td>\n",
       "    </tr>\n",
       "  </tbody>\n",
       "</table>\n",
       "<p>2805 rows × 5 columns</p>\n",
       "</div>"
      ],
      "text/plain": [
       "      yearID teamID    W   L   PERCENT\n",
       "0       1871    BS1   20  10  0.666667\n",
       "1       1871    CH1   19   9  0.678571\n",
       "2       1871    CL1   10  19  0.344828\n",
       "3       1871    FW1    7  12  0.368421\n",
       "4       1871    NY2   16  17  0.484848\n",
       "5       1871    PH1   21   7  0.750000\n",
       "6       1871    RC1    4  21  0.160000\n",
       "7       1871    TRO   13  15  0.464286\n",
       "8       1871    WS3   15  15  0.500000\n",
       "9       1872    BL1   35  19  0.648148\n",
       "10      1872    BR1    3  26  0.103448\n",
       "11      1872    BR2    9  28  0.243243\n",
       "12      1872    BS1   39   8  0.829787\n",
       "13      1872    CL1    6  16  0.272727\n",
       "14      1872    MID    5  19  0.208333\n",
       "15      1872    NY2   34  20  0.629630\n",
       "16      1872    PH1   30  14  0.681818\n",
       "17      1872    TRO   15  10  0.600000\n",
       "18      1872    WS3    2   7  0.222222\n",
       "19      1872    WS4    0  11  0.000000\n",
       "20      1873    BL1   34  22  0.607143\n",
       "21      1873    BL4    0   6  0.000000\n",
       "22      1873    BR2   17  37  0.314815\n",
       "23      1873    BS1   43  16  0.728814\n",
       "24      1873    ELI    2  21  0.086957\n",
       "25      1873    NY2   29  24  0.547170\n",
       "26      1873    PH1   28  23  0.549020\n",
       "27      1873    PH2   36  17  0.679245\n",
       "28      1873    WS5    8  31  0.205128\n",
       "29      1874    BL1    9  38  0.191489\n",
       "...      ...    ...  ...  ..       ...\n",
       "2775    2015    KCA   95  67  0.586420\n",
       "2776    2015    MIN   83  79  0.512346\n",
       "2777    2015    CLE   81  80  0.503106\n",
       "2778    2015    CHA   76  86  0.469136\n",
       "2779    2015    DET   74  87  0.459627\n",
       "2780    2015    TOR   93  69  0.574074\n",
       "2781    2015    NYA   87  75  0.537037\n",
       "2782    2015    BAL   81  81  0.500000\n",
       "2783    2015    TBA   80  82  0.493827\n",
       "2784    2015    BOS   78  84  0.481481\n",
       "2785    2015    TEX   88  74  0.543210\n",
       "2786    2015    HOU   86  76  0.530864\n",
       "2787    2015    LAA   85  77  0.524691\n",
       "2788    2015    SEA   76  86  0.469136\n",
       "2789    2015    OAK   68  94  0.419753\n",
       "2790    2015    SLN  100  62  0.617284\n",
       "2791    2015    PIT   98  64  0.604938\n",
       "2792    2015    CHN   97  65  0.598765\n",
       "2793    2015    MIL   68  94  0.419753\n",
       "2794    2015    CIN   64  98  0.395062\n",
       "2795    2015    NYN   90  72  0.555556\n",
       "2796    2015    WAS   83  79  0.512346\n",
       "2797    2015    MIA   71  91  0.438272\n",
       "2798    2015    ATL   67  95  0.413580\n",
       "2799    2015    PHI   63  99  0.388889\n",
       "2800    2015    LAN   92  70  0.567901\n",
       "2801    2015    SFN   84  78  0.518519\n",
       "2802    2015    ARI   79  83  0.487654\n",
       "2803    2015    SDN   74  88  0.456790\n",
       "2804    2015    COL   68  94  0.419753\n",
       "\n",
       "[2805 rows x 5 columns]"
      ]
     },
     "execution_count": 262,
     "metadata": {},
     "output_type": "execute_result"
    }
   ],
   "source": [
    "wins_and_losses_df"
   ]
  },
  {
   "cell_type": "code",
   "execution_count": null,
   "metadata": {
    "collapsed": false
   },
   "outputs": [],
   "source": []
  },
  {
   "cell_type": "code",
   "execution_count": null,
   "metadata": {
    "collapsed": false
   },
   "outputs": [],
   "source": []
  },
  {
   "cell_type": "code",
   "execution_count": null,
   "metadata": {
    "collapsed": true
   },
   "outputs": [],
   "source": []
  }
 ],
 "metadata": {
  "kernelspec": {
   "display_name": "Python 2",
   "language": "python",
   "name": "python2"
  },
  "language_info": {
   "codemirror_mode": {
    "name": "ipython",
    "version": 2
   },
   "file_extension": ".py",
   "mimetype": "text/x-python",
   "name": "python",
   "nbconvert_exporter": "python",
   "pygments_lexer": "ipython2",
   "version": "2.7.11"
  }
 },
 "nbformat": 4,
 "nbformat_minor": 0
}
